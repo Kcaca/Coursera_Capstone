{
 "cells": [
  {
   "cell_type": "markdown",
   "metadata": {},
   "source": [
    "#### 1. A description of the problem and a discussion of the background. "
   ]
  },
  {
   "cell_type": "markdown",
   "metadata": {},
   "source": [
    "#####  \n",
    "Business problem:\n",
    "\n",
    "How competitive in the neighborhood if an international coffee brand would like to open a new coffee shop and/or café in the city of Toronto in Canada? \n",
    "\n",
    "\n",
    "Background context:\n",
    "\n",
    "An international coffee brand would like to explore international market and consider Toronto as their next target market to meet their growth ambition. However, they would like to understand where will be an appropriate location in Toronto for its first shop. The would like to understand the neighborhoods, such as why a neighborhood is popular and how many existing coffee shop in an area. \n"
   ]
  },
  {
   "cell_type": "markdown",
   "metadata": {},
   "source": [
    "#### 2. A description of the data and how it will be used to solve the problem."
   ]
  },
  {
   "cell_type": "markdown",
   "metadata": {},
   "source": [
    "#####  \n",
    "Identifying which location data provider to use is a answer needs to consider at the start of the project. After evaluating the rate limits, cost, coverage, accuracy and update frequency, Foursquare location dataset will be used in analyzing above business problem. \n",
    "\n",
    "By leveraging the Foursquare location data, the above business problem can be resolved. Key information required are like venues data (name, category, location), comments and tips, place of interests around a location, etc. \n",
    "\n",
    "In analyzing the data, we need to segment data into different neighborhoods using the geographical coordinates of the center of each neighborhood, and then using a combination of location data and machine learning. \n"
   ]
  },
  {
   "cell_type": "code",
   "execution_count": null,
   "metadata": {},
   "outputs": [],
   "source": []
  }
 ],
 "metadata": {
  "kernelspec": {
   "display_name": "Python 3",
   "language": "python",
   "name": "python3"
  },
  "language_info": {
   "codemirror_mode": {
    "name": "ipython",
    "version": 3
   },
   "file_extension": ".py",
   "mimetype": "text/x-python",
   "name": "python",
   "nbconvert_exporter": "python",
   "pygments_lexer": "ipython3",
   "version": "3.6.6"
  }
 },
 "nbformat": 4,
 "nbformat_minor": 2
}
